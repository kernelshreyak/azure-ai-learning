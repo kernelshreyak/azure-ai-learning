{
 "cells": [
  {
   "cell_type": "markdown",
   "metadata": {},
   "source": [
    "# Use LangChain with Meta Llama 3 in Azure AI and Azure ML\n",
    "\n",
    "You can use Meta-Llama-3 models deployed in Azure AI and Azure ML with `langchain` to create more sophisticated intelligent applications. Use `langchain_community` package with the Azure Machine Learning integration."
   ]
  },
  {
   "cell_type": "markdown",
   "metadata": {},
   "source": [
    "## Prerequisites\n",
    "\n",
    "Before we start, there are certain steps we need to take to deploy the models:\n",
    "\n",
    "* Register for a valid Azure account with subscription \n",
    "* Make sure you have access to [Azure AI Studio](https://learn.microsoft.com/en-us/azure/ai-studio/what-is-ai-studio?tabs=home)\n",
    "* Create a project and resource group\n",
    "* Select Meta-Llama-3 models from Model catalog. This example assumes you are deploying `Meta-Llama-3-70B-Instruct`.\n",
    "\n",
    "    > Notice that some models may not be available in all the regions in Azure AI and Azure Machine Learning. On those cases, you can create a workspace or project in the region where the models are available and then consume it with a connection from a different one. To learn more about using connections see [Consume models with connections](https://learn.microsoft.com/en-us/azure/ai-studio/how-to/deployments-connections)\n",
    "\n",
    "* Deploy with \"Pay-as-you-go\"\n",
    "\n",
    "Once deployed successfully, you should be assigned for an API endpoint and a security key for inference.\n",
    "\n",
    "For more information, you should consult Azure's official documentation [here](https://aka.ms/meta-llama-3-azure-ai-studio-docs) for model deployment and inference.\n",
    "\n",
    "To complete this tutorial, you will need to:\n",
    "\n",
    "* Install `langchain` and `langchain_community`:\n",
    "\n",
    "    ```bash\n",
    "    pip install langchain langchain_community\n",
    "    ```"
   ]
  },
  {
   "cell_type": "markdown",
   "metadata": {},
   "source": [
    "## Example\n",
    "\n",
    "The following example demonstrate how to create a chain that uses a Meta-Llama-3 chat model deployed in Azure AI and Azure ML. The chain has been configured with a `ConversationBufferMemory`. This example has been adapted from [LangChain official documentation](https://python.langchain.com/docs/modules/memory/adding_memory)."
   ]
  },
  {
   "cell_type": "code",
   "execution_count": 33,
   "metadata": {
    "name": "imports"
   },
   "outputs": [
    {
     "data": {
      "text/plain": [
       "True"
      ]
     },
     "execution_count": 33,
     "metadata": {},
     "output_type": "execute_result"
    }
   ],
   "source": [
    "from langchain.chains import LLMChain\n",
    "from langchain.memory import ConversationBufferMemory\n",
    "from langchain.prompts import (\n",
    "    ChatPromptTemplate,\n",
    "    HumanMessagePromptTemplate,\n",
    "    MessagesPlaceholder,\n",
    ")\n",
    "from langchain.schema import SystemMessage\n",
    "from langchain_community.chat_models.azureml_endpoint import (\n",
    "    AzureMLChatOnlineEndpoint,\n",
    "    AzureMLEndpointApiType,\n",
    "    LlamaChatContentFormatter,\n",
    ")\n",
    "\n",
    "from langchain_core.messages import HumanMessage\n",
    "\n",
    "from dotenv import load_dotenv\n",
    "load_dotenv()"
   ]
  },
  {
   "cell_type": "markdown",
   "metadata": {},
   "source": [
    "Let's create an instance of our `AzureMLChatOnlineEndpoint` model. This class allow us to get access to any model deployed in Azure AI or Azure ML. For completion models use class `langchain_community.llms.azureml_endpoint.AzureMLOnlineEndpoint` with `LlamaContentFormatter` as the `content_formatter`."
   ]
  },
  {
   "cell_type": "code",
   "execution_count": 30,
   "metadata": {
    "name": "chat_client"
   },
   "outputs": [
    {
     "name": "stderr",
     "output_type": "stream",
     "text": [
      "/home/shreyak/programming/azure-ai-learning/venv/lib/python3.10/site-packages/langchain_community/chat_models/azureml_endpoint.py:180: UserWarning: `LlamaChatContentFormatter` will be deprecated in the future. \n",
      "                Please use `CustomOpenAIChatContentFormatter` instead.  \n",
      "            \n",
      "  warnings.warn(\n"
     ]
    }
   ],
   "source": [
    "chat_model = AzureMLChatOnlineEndpoint(\n",
    "    endpoint_url=\"https://mlw-dp100-labs-wwyxg.eastus.inference.ml.azure.com/v1/chat/completions\",\n",
    "    endpoint_api_type=AzureMLEndpointApiType.serverless,\n",
    "    content_formatter=LlamaChatContentFormatter(),\n",
    "    max_tokens=600\n",
    ")"
   ]
  },
  {
   "cell_type": "code",
   "execution_count": 38,
   "metadata": {},
   "outputs": [],
   "source": [
    "user_input_prompt = \"can machine learning be used to predict when to sell and buy a stock depending on last 18 years data?\""
   ]
  },
  {
   "cell_type": "markdown",
   "metadata": {},
   "source": [
    "> Tip: You can configure environment variables `AZUREML_ENDPOINT_URL`, `AZUREML_ENDPOINT_API_KEY`, and `AZUREML_ENDPOINT_API_TYPE` instead of passing them as arguments."
   ]
  },
  {
   "cell_type": "code",
   "execution_count": 39,
   "metadata": {},
   "outputs": [
    {
     "name": "stdout",
     "output_type": "stream",
     "text": [
      "What a great question!\n",
      "\n",
      "In principle, yes, machine learning can be used to predict when to sell and buy a stock, given a large dataset of historical stock prices and other relevant factors. This is a classic problem in finance, known as Technical Analysis or Trend Analysis.\n",
      "\n",
      "Here's a high-level overview of how you could approach this:\n",
      "\n",
      "**Data preprocessing**\n",
      "\n",
      "1. Collect a large dataset of historical stock prices for the stock you're interested in, covering at least 18 years.\n",
      "2. Preprocess the data by:\n",
      "\t* Handling missing values or irregularly spaced data.\n",
      "\t* Normalizing the data (e.g., scaling or standardizing) to ensure features have similar magnitudes.\n",
      "\t* Extracting relevant features from the data, such as:\n",
      "\t\t+ Moving averages (e.g., 50-day, 100-day).\n",
      "\t\t+ Relative strength index (RSI).\n",
      "\t\t+ Bollinger Bands.\n",
      "\t\t+ Volume indicators (e.g., On Balance Volume).\n",
      "\t\t+ Other technical indicators you think might be relevant.\n",
      "\n",
      "**Feature engineering**\n",
      "\n",
      "1. Design a set of features that capture the relationships between the stock price and other variables, such as:\n",
      "\t* Historical returns or profits.\n",
      "\t* Market sentiment (e.g., using sentiment analysis on social media or news articles).\n",
      "\t* Economic indicators (e.g., GDP, inflation rate, interest rates).\n",
      "\t* Seasonal patterns or holidays.\n",
      "2. Use techniques like PCA (Principal Component Analysis) or t-SNE (t-distributed Stochastic Neighbor Embedding) to reduce the dimensionality of your feature set, if needed.\n",
      "\n",
      "**Machine learning model selection and training**\n",
      "\n",
      "1. Choose a suitable machine learning model for this problem, such as:\n",
      "\t* Neural Networks (e.g., LSTM, GRU) for time series forecasting.\n",
      "\t* Random Forest or Gradient Boosting for classification or regression.\n",
      "\t* Support Vector Machines (SVM) for binary classification.\n",
      "2. Split your dataset into training and testing sets (e.g., 70% for training and 30% for testing).\n",
      "3. Train your model on the training set, tuning hyperparameters using techniques like grid search or cross-validation.\n",
      "\n",
      "**Predictive modeling**\n",
      "\n",
      "1. Use your trained model to predict the future stock price or returns.\n",
      "2. Generate buy/sell signals based on the predicted price differences or returns.\n",
      "3. Evaluate the performance of your model using metrics like:\n",
      "\t* Mean Absolute Error (MAE).\n",
      "\t* Mean Squared Error (MSE).\n",
      "\t* Mean Absolute Percentage Error\n"
     ]
    }
   ],
   "source": [
    "\n",
    "response = chat_model.invoke(\n",
    "    [HumanMessage(content=user_input_prompt)],\n",
    "    max_tokens=512,\n",
    ")\n",
    "print(response.content)"
   ]
  },
  {
   "cell_type": "markdown",
   "metadata": {},
   "source": [
    "Invoke directly"
   ]
  },
  {
   "cell_type": "markdown",
   "metadata": {},
   "source": [
    "In the below prompt, we have two input keys: one for the actual input (`human_input`), and another for the input from the `Memory` class (`chat_history`)."
   ]
  },
  {
   "cell_type": "code",
   "execution_count": 28,
   "metadata": {
    "name": "prompt-template"
   },
   "outputs": [],
   "source": [
    "prompt = ChatPromptTemplate.from_messages(\n",
    "    [\n",
    "        SystemMessage(\n",
    "            content=\"You are a chatbot having a conversation with a human. Be detail and action oriented in your responses and act like an expert in computer science and financial markets\"\n",
    "        ),\n",
    "        MessagesPlaceholder(variable_name=\"chat_history\"),\n",
    "        HumanMessagePromptTemplate.from_template(\"{human_input}\"),\n",
    "    ]\n",
    ")\n",
    "\n",
    "memory = ConversationBufferMemory(memory_key=\"chat_history\", return_messages=True)\n",
    "chat_llm_chain = LLMChain(\n",
    "    llm=chat_model,\n",
    "    prompt=prompt,\n",
    "    memory=memory,\n",
    "    verbose=True,\n",
    ")"
   ]
  },
  {
   "cell_type": "markdown",
   "metadata": {},
   "source": [
    "We create the chain as follows:"
   ]
  },
  {
   "cell_type": "code",
   "execution_count": 29,
   "metadata": {},
   "outputs": [
    {
     "name": "stdout",
     "output_type": "stream",
     "text": [
      "\n",
      "\n",
      "\u001b[1m> Entering new LLMChain chain...\u001b[0m\n",
      "Prompt after formatting:\n",
      "\u001b[32;1m\u001b[1;3mSystem: You are a chatbot having a conversation with a human. Be detail and action oriented in your responses and act like an expert in computer science and financial markets\n",
      "Human: can machine learning be used to predict when to sell and buy a stock depending on last 18 years data?\u001b[0m\n",
      "\n",
      "\u001b[1m> Finished chain.\u001b[0m\n"
     ]
    },
    {
     "data": {
      "text/plain": [
       "'What a fascinating question!\\n\\nYes, machine learning can be used to predict when to'"
      ]
     },
     "execution_count": 29,
     "metadata": {},
     "output_type": "execute_result"
    }
   ],
   "source": [
    "chat_llm_chain.predict(human_input=user_input_prompt)"
   ]
  },
  {
   "cell_type": "markdown",
   "metadata": {},
   "source": [
    "## Aditional resources\n",
    "\n",
    "Here are some additional reference:  \n",
    "\n",
    "* [Plan and manage costs (marketplace)](https://learn.microsoft.com/azure/ai-studio/how-to/costs-plan-manage#monitor-costs-for-models-offered-through-the-azure-marketplace)\n"
   ]
  }
 ],
 "metadata": {
  "kernelspec": {
   "display_name": "venv",
   "language": "python",
   "name": "python3"
  },
  "language_info": {
   "codemirror_mode": {
    "name": "ipython",
    "version": 3
   },
   "file_extension": ".py",
   "mimetype": "text/x-python",
   "name": "python",
   "nbconvert_exporter": "python",
   "pygments_lexer": "ipython3",
   "version": "3.10.12"
  }
 },
 "nbformat": 4,
 "nbformat_minor": 2
}
